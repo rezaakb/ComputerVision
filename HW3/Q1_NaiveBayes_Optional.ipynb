{
 "cells": [
  {
   "cell_type": "markdown",
   "metadata": {},
   "source": [
    "# Naive Bayes (Optional)\n",
    "##### MNIST - Hand Written Digits"
   ]
  },
  {
   "cell_type": "markdown",
   "metadata": {},
   "source": [
    "### Importing Libraries"
   ]
  },
  {
   "cell_type": "code",
   "execution_count": 11,
   "metadata": {
    "pycharm": {
     "is_executing": false
    }
   },
   "outputs": [],
   "source": [
    "from torchvision import datasets\n",
    "import numpy as np\n",
    "from scipy.ndimage import gaussian_filter"
   ]
  },
  {
   "cell_type": "markdown",
   "metadata": {},
   "source": [
    "<hr>"
   ]
  },
  {
   "cell_type": "markdown",
   "metadata": {},
   "source": [
    "### Loading Data"
   ]
  },
  {
   "cell_type": "code",
   "execution_count": 54,
   "metadata": {
    "pycharm": {
     "is_executing": false
    }
   },
   "outputs": [
    {
     "name": "stdout",
     "text": [
      "Using downloaded and verified file: ./data\\MNIST\\raw\\train-images-idx3-ubyte.gz\n",
      "Extracting ./data\\MNIST\\raw\\train-images-idx3-ubyte.gz to ./data\\MNIST\\raw\n",
      "Using downloaded and verified file: ./data\\MNIST\\raw\\train-labels-idx1-ubyte.gz\n",
      "Extracting ./data\\MNIST\\raw\\train-labels-idx1-ubyte.gz to ./data\\MNIST\\raw\n",
      "Using downloaded and verified file: ./data\\MNIST\\raw\\t10k-images-idx3-ubyte.gz\n",
      "Extracting ./data\\MNIST\\raw\\t10k-images-idx3-ubyte.gz to ./data\\MNIST\\raw\n",
      "Using downloaded and verified file: ./data\\MNIST\\raw\\t10k-labels-idx1-ubyte.gz\n",
      "Extracting ./data\\MNIST\\raw\\t10k-labels-idx1-ubyte.gz to ./data\\MNIST\\raw\n",
      "Processing...\n",
      "Done!\n"
     ],
     "output_type": "stream"
    }
   ],
   "source": [
    "train_data = datasets.MNIST('./data', train=True, download=True)\n",
    "train_images = np.array(train_data.train_data)/255\n",
    "train_labels = np.array(train_data.train_labels)\n",
    "\n",
    "test_data  = datasets.MNIST('./data', train=False, download=True)\n",
    "test_images = np.array(test_data.test_data)/255\n",
    "test_labels = np.array(test_data.test_labels)\n"
   ]
  },
  {
   "cell_type": "markdown",
   "metadata": {},
   "source": [
    "<hr>"
   ]
  },
  {
   "cell_type": "markdown",
   "metadata": {},
   "source": [
    "### Training Model"
   ]
  },
  {
   "cell_type": "code",
   "execution_count": 50,
   "metadata": {
    "pycharm": {
     "is_executing": false
    }
   },
   "outputs": [
    {
     "name": "stdout",
     "text": [
      "Model trained!\n"
     ],
     "output_type": "stream"
    }
   ],
   "source": [
    "def guassianFilter(train_images1):\n",
    "    new_trained = np.zeros((len(train_images1),784))\n",
    "    for i in range(train_images1.shape[0]):\n",
    "        new_trained[i] = gaussian_filter(train_images1[i],sigma=1).flatten()\n",
    "        new_trained[i] = new_trained[i]/np.max(new_trained[i])\n",
    "    return new_trained\n",
    "\n",
    "train_images = guassianFilter(train_images)\n",
    "cpt_x = np.zeros((10,len(train_images[0])))\n",
    "cpt_cov = np.zeros((10,len(train_images[0]),len(train_images[0])))\n",
    "cpt_det_cov = np.zeros(10)\n",
    "tmp = 0.1 * np.identity(784)\n",
    "\n",
    "for j in range(10):\n",
    "    target = train_images[train_labels==j]\n",
    "    tmp2 = np.cov(target,rowvar=False)+tmp\n",
    "    cpt_det_cov[j] = np.linalg.det(tmp2)\n",
    "    cpt_cov[j,:]= np.linalg.inv(tmp2)\n",
    "    cpt_x[j,:]= np.mean(target,axis=0)\n",
    "num_count = np.zeros(10)\n",
    "for i in range(10):\n",
    "    num_count[i] = np.sum(train_labels == i)\n",
    "cpt_y = num_count / np.sum(num_count)\n",
    "print('Model trained!')"
   ]
  },
  {
   "cell_type": "markdown",
   "metadata": {},
   "source": [
    "### Evaluating Model"
   ]
  },
  {
   "cell_type": "code",
   "execution_count": 53,
   "metadata": {
    "pycharm": {
     "is_executing": false,
     "name": "#%%\n"
    }
   },
   "outputs": [
    {
     "name": "stdout",
     "text": [
      "Accuracy =  0.9627\n"
     ],
     "output_type": "stream"
    }
   ],
   "source": [
    "test_images = guassianFilter(test_images)\n",
    "n = len(test_images)\n",
    "err = 0\n",
    "for i in range(n):\n",
    "    maximum = -100000000\n",
    "    j_result = 0\n",
    "    for j in range(10):\n",
    "        tmp = np.matmul((test_images[i,:]-cpt_x[j,:]).T,cpt_cov[j])\n",
    "        tmp = (1/2)*np.matmul(tmp, test_images[i,:]-cpt_x[j,:])\n",
    "        tmp = tmp + (1/2)*np.log(cpt_det_cov[j]+1e-150)\n",
    "        prob = np.log(cpt_y[j])-tmp\n",
    "        if maximum<prob or j==0 and prob!='inf':\n",
    "            j_result = j\n",
    "            maximum = prob\n",
    "    if j_result != test_labels[i]:\n",
    "        err=err+1\n",
    "print('Accuracy = ', 1-err/n)"
   ]
  }
 ],
 "metadata": {
  "kernelspec": {
   "display_name": "Python 3",
   "language": "python",
   "name": "python3"
  },
  "language_info": {
   "codemirror_mode": {
    "name": "ipython",
    "version": 3
   },
   "file_extension": ".py",
   "mimetype": "text/x-python",
   "name": "python",
   "nbconvert_exporter": "python",
   "pygments_lexer": "ipython3",
   "version": "3.7.4"
  },
  "pycharm": {
   "stem_cell": {
    "cell_type": "raw",
    "source": [],
    "metadata": {
     "collapsed": false
    }
   }
  }
 },
 "nbformat": 4,
 "nbformat_minor": 4
}